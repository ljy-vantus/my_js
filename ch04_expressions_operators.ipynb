{
 "cells": [
  {
   "cell_type": "markdown",
   "id": "08a7dbda-b3da-4b2b-8cf0-b7c40b7c05b5",
   "metadata": {},
   "source": [
    "# 4. Expressions and Operators"
   ]
  },
  {
   "cell_type": "markdown",
   "id": "ee31984a-e46a-425e-bb25-c899e1342b5d",
   "metadata": {},
   "source": [
    "## 4.1 Primary Expressions"
   ]
  },
  {
   "cell_type": "code",
   "execution_count": 3,
   "id": "d0e7fe40-29b8-4dff-acc4-06c592ef3b02",
   "metadata": {},
   "outputs": [
    {
     "data": {
      "text/plain": [
       "1.23"
      ]
     },
     "execution_count": 3,
     "metadata": {},
     "output_type": "execute_result"
    }
   ],
   "source": [
    "1.23"
   ]
  },
  {
   "cell_type": "code",
   "execution_count": 4,
   "id": "bf418d3d-de5c-4c4b-a967-efb276180c9f",
   "metadata": {},
   "outputs": [
    {
     "data": {
      "text/plain": [
       "'hello'"
      ]
     },
     "execution_count": 4,
     "metadata": {},
     "output_type": "execute_result"
    }
   ],
   "source": [
    "\"hello\""
   ]
  },
  {
   "cell_type": "code",
   "execution_count": 5,
   "id": "2a820c8d-72be-4e58-ab52-b4cc677f995a",
   "metadata": {},
   "outputs": [
    {
     "data": {
      "text/plain": [
       "/pattern/"
      ]
     },
     "execution_count": 5,
     "metadata": {},
     "output_type": "execute_result"
    }
   ],
   "source": [
    "/pattern/"
   ]
  },
  {
   "cell_type": "code",
   "execution_count": 6,
   "id": "91f4ee9f-b8d9-4c68-9766-829b589fe455",
   "metadata": {},
   "outputs": [
    {
     "data": {
      "text/plain": [
       "true"
      ]
     },
     "execution_count": 6,
     "metadata": {},
     "output_type": "execute_result"
    }
   ],
   "source": [
    "true"
   ]
  },
  {
   "cell_type": "code",
   "execution_count": 7,
   "id": "cfd9825e-1903-47c5-97ba-3153e8e866b8",
   "metadata": {},
   "outputs": [
    {
     "data": {
      "text/plain": [
       "false"
      ]
     },
     "execution_count": 7,
     "metadata": {},
     "output_type": "execute_result"
    }
   ],
   "source": [
    "false"
   ]
  },
  {
   "cell_type": "code",
   "execution_count": 8,
   "id": "8c7b0cb6-5392-46fc-aa1a-4e2fe6cafa89",
   "metadata": {},
   "outputs": [
    {
     "data": {
      "text/plain": [
       "null"
      ]
     },
     "execution_count": 8,
     "metadata": {},
     "output_type": "execute_result"
    }
   ],
   "source": [
    "null"
   ]
  },
  {
   "cell_type": "code",
   "execution_count": 11,
   "id": "e2f5c2d5-f4cd-447c-ad4d-8dccd8f4b58e",
   "metadata": {},
   "outputs": [],
   "source": [
    "// this"
   ]
  },
  {
   "cell_type": "code",
   "execution_count": 13,
   "id": "01a9254e-55b9-4b53-a9ce-40a9c29baea9",
   "metadata": {},
   "outputs": [],
   "source": [
    "// i"
   ]
  },
  {
   "cell_type": "markdown",
   "id": "43252137-6eb0-4edb-9958-dd8ccec2301c",
   "metadata": {},
   "source": [
    "## 4.2 Object and Array Initializers"
   ]
  },
  {
   "cell_type": "code",
   "execution_count": 14,
   "id": "e22285a1-a89b-4572-976e-749fe0baa816",
   "metadata": {},
   "outputs": [
    {
     "data": {
      "text/plain": [
       "[]"
      ]
     },
     "execution_count": 14,
     "metadata": {},
     "output_type": "execute_result"
    }
   ],
   "source": [
    "[]"
   ]
  },
  {
   "cell_type": "code",
   "execution_count": 16,
   "id": "d0ba48b1-500d-4366-8134-57d7b0d16b6d",
   "metadata": {},
   "outputs": [
    {
     "data": {
      "text/plain": [
       "[ 3, 7 ]"
      ]
     },
     "execution_count": 16,
     "metadata": {},
     "output_type": "execute_result"
    }
   ],
   "source": [
    "[1+2, 3+4]"
   ]
  },
  {
   "cell_type": "code",
   "execution_count": null,
   "id": "5e33c75f-e567-42ff-8b06-b7ea8c177898",
   "metadata": {},
   "outputs": [],
   "source": []
  }
 ],
 "metadata": {
  "kernelspec": {
   "display_name": "JavaScript (Node.js)",
   "language": "javascript",
   "name": "javascript"
  },
  "language_info": {
   "file_extension": ".js",
   "mimetype": "application/javascript",
   "name": "javascript",
   "version": "18.12.1"
  }
 },
 "nbformat": 4,
 "nbformat_minor": 5
}
